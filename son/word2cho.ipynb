{
 "cells": [
  {
   "cell_type": "code",
   "execution_count": 1,
   "metadata": {},
   "outputs": [
    {
     "name": "stdout",
     "output_type": "stream",
     "text": [
      "2264\n"
     ]
    }
   ],
   "source": [
    "import re\n",
    "import kss\n",
    "f = open('4BH00005.txt', encoding=\"utf8\")\n",
    "i=0\n",
    "sentence_list = []\n",
    "while True:\n",
    "    line = f.readline()\n",
    "    if not line: break\n",
    "    if line != '\\n':\n",
    "        i=i+1\n",
    "        line = re.sub('<.+?>', '', line, 0, re.S)\n",
    "        line = re.sub('\\(.+?\\)', '', line, 0, re.S)\n",
    "        line = re.sub('\\[.+?\\]', '', line, 0, re.S)\n",
    "        line = re.sub('\\{.+?\\}', '', line, 0, re.S)\n",
    "        line = re.sub('《.+?》', '', line, 0, re.S)\n",
    "        line = re.sub('[-=+,#/\\?:^$.@*\\\"※~&%ㆍ!『』\\‘|\\(\\)\\[\\]\\<\\>`\\'…《》\\{\\}_「」±√]', '', line,0,re.S)\n",
    "        line = line.lower()\n",
    "        if len(line) >10:\n",
    "            sentence_list+= kss.split_sentences(line)\n",
    "f.close()\n",
    "print(len(sentence_list))"
   ]
  },
  {
   "cell_type": "code",
   "execution_count": 2,
   "metadata": {},
   "outputs": [
    {
     "name": "stdout",
     "output_type": "stream",
     "text": [
      "['제1장 531 교육개혁의 정당화논리 탐색', '이 장에서는 문민정부 시절 교육개혁위원회가 마련한 531 교육개혁안의 정당화논리를 분석하고 있다', '분석을 통해 개혁의 목표가 창의력 배양과 교육의 질적 수월성 추구에 있음을 밝히고 있다', '개혁주체들은 교육공급 측면에서 경쟁조건을 창출함으로써 교육서비스의 질을 높일 수 있다고 주장한다 한마디로 시장경제의 원리에 사로잡혀 있는 것이다', '교육체제를 운영하는 데는 두 가지 상반되는 가치가 존재한다 하나는 평등이고 다른 하나는 수월성이다']\n"
     ]
    }
   ],
   "source": [
    "print(sentence_list[:5])"
   ]
  },
  {
   "cell_type": "code",
   "execution_count": 53,
   "metadata": {},
   "outputs": [],
   "source": [
    "choseong_list = [char for char in \"ㄱㄲㄴㄷㄸㄹㅁㅂㅃㅅㅆㅇㅈㅉㅊㅋㅌㅍㅎ\"]\n",
    "word_list = []\n",
    "for sentence in sentence_list:\n",
    "    sen2word = list()\n",
    "    for word in sentence:\n",
    "        if re.match('[가-힣]',word) is not None :\n",
    "            sen2word+=choseong_list[(int)((ord(word)-ord('가'))/(21*28))]\n",
    "    word_list.append(sen2word)"
   ]
  },
  {
   "cell_type": "code",
   "execution_count": 58,
   "metadata": {},
   "outputs": [
    {
     "name": "stdout",
     "output_type": "stream",
     "text": [
      "[['ㅈ', 'ㅈ', 'ㄱ', 'ㅇ', 'ㄱ', 'ㅎ', 'ㅇ', 'ㅈ', 'ㄷ', 'ㅎ', 'ㄴ', 'ㄹ', 'ㅌ', 'ㅅ'], ['ㅇ', 'ㅈ', 'ㅇ', 'ㅅ', 'ㄴ', 'ㅁ', 'ㅁ', 'ㅈ', 'ㅂ', 'ㅅ', 'ㅈ', 'ㄱ', 'ㅇ', 'ㄱ', 'ㅎ', 'ㅇ', 'ㅇ', 'ㅎ', 'ㄱ', 'ㅁ', 'ㄹ', 'ㅎ', 'ㄱ', 'ㅇ', 'ㄱ', 'ㅎ', 'ㅇ', 'ㅇ', 'ㅈ', 'ㄷ', 'ㅎ', 'ㄴ', 'ㄹ', 'ㄹ', 'ㅂ', 'ㅅ', 'ㅎ', 'ㄱ', 'ㅇ', 'ㄷ'], ['ㅂ', 'ㅅ', 'ㅇ', 'ㅌ', 'ㅎ', 'ㄱ', 'ㅎ', 'ㅇ', 'ㅁ', 'ㅍ', 'ㄱ', 'ㅊ', 'ㅇ', 'ㄹ', 'ㅂ', 'ㅇ', 'ㄱ', 'ㄱ', 'ㅇ', 'ㅇ', 'ㅈ', 'ㅈ', 'ㅅ', 'ㅇ', 'ㅅ', 'ㅊ', 'ㄱ', 'ㅇ', 'ㅇ', 'ㅇ', 'ㅇ', 'ㅂ', 'ㅎ', 'ㄱ', 'ㅇ', 'ㄷ'], ['ㄱ', 'ㅎ', 'ㅈ', 'ㅊ', 'ㄷ', 'ㅇ', 'ㄱ', 'ㅇ', 'ㄱ', 'ㄱ', 'ㅊ', 'ㅁ', 'ㅇ', 'ㅅ', 'ㄱ', 'ㅈ', 'ㅈ', 'ㄱ', 'ㅇ', 'ㅊ', 'ㅊ', 'ㅎ', 'ㅇ', 'ㄹ', 'ㅆ', 'ㄱ', 'ㅇ', 'ㅅ', 'ㅂ', 'ㅅ', 'ㅇ', 'ㅈ', 'ㅇ', 'ㄴ', 'ㅇ', 'ㅅ', 'ㅇ', 'ㄷ', 'ㄱ', 'ㅈ', 'ㅈ', 'ㅎ', 'ㄷ', 'ㅎ', 'ㅁ', 'ㄷ', 'ㄹ', 'ㅅ', 'ㅈ', 'ㄱ', 'ㅈ', 'ㅇ', 'ㅇ', 'ㄹ', 'ㅇ', 'ㅅ', 'ㄹ', 'ㅈ', 'ㅎ', 'ㅇ', 'ㄴ', 'ㄱ', 'ㅇ', 'ㄷ'], ['ㄱ', 'ㅇ', 'ㅊ', 'ㅈ', 'ㄹ', 'ㅇ', 'ㅇ', 'ㅎ', 'ㄴ', 'ㄷ', 'ㄴ', 'ㄷ', 'ㄱ', 'ㅈ', 'ㅅ', 'ㅂ', 'ㄷ', 'ㄴ', 'ㄱ', 'ㅊ', 'ㄱ', 'ㅈ', 'ㅈ', 'ㅎ', 'ㄷ', 'ㅎ', 'ㄴ', 'ㄴ', 'ㅍ', 'ㄷ', 'ㅇ', 'ㄱ', 'ㄷ', 'ㄹ', 'ㅎ', 'ㄴ', 'ㄴ', 'ㅅ', 'ㅇ', 'ㅅ', 'ㅇ', 'ㄷ']]\n"
     ]
    }
   ],
   "source": [
    "print(word_list[:5])"
   ]
  },
  {
   "cell_type": "code",
   "execution_count": null,
   "metadata": {},
   "outputs": [],
   "source": []
  }
 ],
 "metadata": {
  "kernelspec": {
   "display_name": "Python 3",
   "language": "python",
   "name": "python3"
  },
  "language_info": {
   "codemirror_mode": {
    "name": "ipython",
    "version": 3
   },
   "file_extension": ".py",
   "mimetype": "text/x-python",
   "name": "python",
   "nbconvert_exporter": "python",
   "pygments_lexer": "ipython3",
   "version": "3.7.4"
  }
 },
 "nbformat": 4,
 "nbformat_minor": 2
}
